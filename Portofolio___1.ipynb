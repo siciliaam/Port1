{
  "cells": [
    {
      "cell_type": "markdown",
      "metadata": {
        "id": "0KSi2Jcn-MRY"
      },
      "source": [
        "Hasil yang Diharapkan\n",
        "- Laporan lengkap tentang produk-produk yang paling laku dan analisis tren penjualan.\n",
        "- Profil pelanggan yang paling sering membeli produk.\n",
        "- Daftar produk dengan margin keuntungan tertinggi.\n"
      ]
    },
    {
      "cell_type": "markdown",
      "metadata": {
        "id": "bKxAgXDMDoJ4"
      },
      "source": [
        "Tujuan Analisis\n",
        "- Mengidentifikasi produk elektronik yang paling laku.\n",
        "- Menganalisis tren penjualan bulanan dan musiman.\n",
        "- Mengetahui profil pelanggan yang paling sering membeli.\n",
        "- Mengidentifikasi produk dengan margin keuntungan tertinggi."
      ]
    },
    {
      "cell_type": "code",
      "execution_count": null,
      "metadata": {
        "id": "3EScsooI_hO4"
      },
      "outputs": [],
      "source": [
        "import pandas as pd\n",
        "import numpy as np\n",
        "import matplotlib.pyplot as plt\n",
        "import seaborn as sns"
      ]
    },
    {
      "cell_type": "code",
      "execution_count": null,
      "metadata": {
        "id": "R9VMiyWeDGJQ"
      },
      "outputs": [],
      "source": [
        "\n",
        "# Generating Sales dataset with 500 rows\n",
        "order_ids = np.arange(1, 501)\n",
        "product_ids = np.random.choice([101, 102, 103, 104, 105], size=500)\n",
        "customer_ids = np.random.choice(np.arange(1001, 1051), size=500)\n",
        "order_dates = pd.date_range(start='2023-01-01', periods=500, freq='D').strftime('%Y-%m-%d').tolist()\n",
        "quantities = np.random.randint(1, 5, size=500)\n",
        "prices = np.random.choice([500, 300, 700, 400, 600], size=500)\n",
        "discounts = np.random.uniform(0, 0.3, size=500).round(2)\n",
        "salespersons = np.random.choice(['Salesperson_A', 'Salesperson_B', 'Salesperson_C', 'Salesperson_D',\n",
        "                                 'Salesperson_E', 'Salesperson_F', 'Salesperson_G', 'Salesperson_H',\n",
        "                                 'Salesperson_I', 'Salesperson_J'], size=500)\n",
        "\n",
        "# Creating DataFrame\n",
        "sales_data_larger = {\n",
        "    'Order_ID': order_ids,\n",
        "    'Product_ID': product_ids,\n",
        "    'Customer_ID': customer_ids,\n",
        "    'Order_Date': order_dates,\n",
        "    'Quantity': quantities,\n",
        "    'Price': prices,\n",
        "    'Discount': discounts,\n",
        "    'Salesperson': salespersons\n",
        "}\n",
        "sales_df_larger = pd.DataFrame(sales_data_larger)\n",
        "\n",
        "# Mapping product IDs to product names\n",
        "product_mapping = {\n",
        "    101: 'Laptop',\n",
        "    102: 'Smartphone',\n",
        "    103: 'Television',\n",
        "    104: 'Tablet',\n",
        "    105: 'Smartwatch'\n",
        "}\n",
        "sales_df_larger['Product_Name'] = sales_df_larger['Product_ID'].map(product_mapping)\n",
        "\n",
        "# Creating the Products dataset with cost\n",
        "products_data_larger = {\n",
        "    'Product_ID': [101, 102, 103, 104, 105],\n",
        "    'Product_Name': ['Laptop', 'Smartphone', 'Television', 'Tablet', 'Smartwatch'],\n",
        "    'Category': ['Computers', 'Mobiles', 'Electronics', 'Mobiles', 'Wearables'],\n",
        "    'Cost': [400, 250, 600, 350, 200],\n",
        "    'Price': [500, 300, 700, 400, 600]\n",
        "}\n",
        "products_df_larger = pd.DataFrame(products_data_larger)\n",
        "\n",
        "# Creating the Customers dataset\n",
        "customers_data_larger = {\n",
        "    'Customer_ID': np.arange(1001, 1051),\n",
        "    'Customer_Name': [f'Customer_{i}' for i in range(1, 51)],\n",
        "    'Gender': np.random.choice(['F', 'M'], size=50),\n",
        "    'Age': np.random.randint(18, 65, size=50),\n",
        "    'Location': np.random.choice(['New York', 'Los Angeles', 'Chicago', 'Houston', 'Phoenix'], size=50)\n",
        "}\n",
        "customers_df_larger = pd.DataFrame(customers_data_larger)\n",
        "\n",
        "# Saving the larger datasets to an Excel file\n",
        "with pd.ExcelWriter('data_Penjualan.xlsx') as writer:\n",
        "    sales_df_larger.to_excel(writer, sheet_name='Sales', index=False)\n",
        "    products_df_larger.to_excel(writer, sheet_name='Products', index=False)\n",
        "    customers_df_larger.to_excel(writer, sheet_name='Customers', index=False)\n"
      ]
    },
    {
      "cell_type": "code",
      "source": [
        "# Simpan ke dalam file CSV\n",
        "products_csv_file = 'products_data.csv'\n",
        "customers_csv_file = 'customers_data.csv'\n",
        "sales_csv_file = 'sales_data.csv'\n",
        "\n",
        "products_df_larger.to_csv(products_csv_file, index=False)\n",
        "customers_df_larger.to_csv(customers_csv_file, index=False)\n",
        "sales_df_larger.to_csv(sales_csv_file, index=False)\n"
      ],
      "metadata": {
        "id": "M-zKSJf-QMQU"
      },
      "execution_count": null,
      "outputs": []
    },
    {
      "cell_type": "code",
      "execution_count": null,
      "metadata": {
        "colab": {
          "base_uri": "https://localhost:8080/"
        },
        "id": "NY3RayMm-R1l",
        "outputId": "1e37b871-584d-4f30-bba8-6385b23757f1"
      },
      "outputs": [
        {
          "name": "stdout",
          "output_type": "stream",
          "text": [
            "<class 'pandas.core.frame.DataFrame'>\n",
            "RangeIndex: 500 entries, 0 to 499\n",
            "Data columns (total 9 columns):\n",
            " #   Column        Non-Null Count  Dtype  \n",
            "---  ------        --------------  -----  \n",
            " 0   Order_ID      500 non-null    int64  \n",
            " 1   Product_ID    500 non-null    int64  \n",
            " 2   Customer_ID   500 non-null    int64  \n",
            " 3   Order_Date    500 non-null    object \n",
            " 4   Quantity      500 non-null    int64  \n",
            " 5   Price         500 non-null    int64  \n",
            " 6   Discount      500 non-null    float64\n",
            " 7   Salesperson   500 non-null    object \n",
            " 8   Product_Name  500 non-null    object \n",
            "dtypes: float64(1), int64(5), object(3)\n",
            "memory usage: 35.3+ KB\n"
          ]
        }
      ],
      "source": [
        "file_path = 'data_Penjualan.xlsx'\n",
        "df = pd.read_excel(file_path)\n",
        "\n",
        "df.info()"
      ]
    },
    {
      "cell_type": "markdown",
      "metadata": {
        "id": "MTSBWZPkDPRZ"
      },
      "source": [
        "Preprocessing"
      ]
    },
    {
      "cell_type": "code",
      "execution_count": null,
      "metadata": {
        "colab": {
          "base_uri": "https://localhost:8080/"
        },
        "id": "Vzc-Elkz_rsv",
        "outputId": "1209ceb6-49cc-4c01-edb9-8a36440c4589"
      },
      "outputs": [
        {
          "name": "stdout",
          "output_type": "stream",
          "text": [
            "Total data (jumlah baris): 500\n"
          ]
        }
      ],
      "source": [
        "total_data = len(df)\n",
        "print(f\"Total data (jumlah baris): {total_data}\")"
      ]
    },
    {
      "cell_type": "code",
      "execution_count": null,
      "metadata": {
        "colab": {
          "base_uri": "https://localhost:8080/"
        },
        "id": "9jMGy3nnAcuT",
        "outputId": "8c685e0a-ec23-4103-ffcb-6ac90695e80b"
      },
      "outputs": [
        {
          "name": "stdout",
          "output_type": "stream",
          "text": [
            "\n",
            "Jumlah nilai NaN dalam setiap kolom:\n",
            "Order_ID        0\n",
            "Product_ID      0\n",
            "Customer_ID     0\n",
            "Order_Date      0\n",
            "Quantity        0\n",
            "Price           0\n",
            "Discount        0\n",
            "Salesperson     0\n",
            "Product_Name    0\n",
            "dtype: int64\n",
            "\n",
            "Setelah menghapus nilai NaN:\n",
            "   Order_ID  Product_ID  Customer_ID  Order_Date  Quantity  Price  Discount  \\\n",
            "0         1         105         1011  2023-01-01         1    300      0.25   \n",
            "1         2         102         1007  2023-01-02         2    700      0.16   \n",
            "2         3         103         1040  2023-01-03         1    500      0.14   \n",
            "3         4         102         1005  2023-01-04         1    400      0.14   \n",
            "4         5         102         1025  2023-01-05         3    600      0.23   \n",
            "\n",
            "     Salesperson Product_Name  \n",
            "0  Salesperson_G   Smartwatch  \n",
            "1  Salesperson_I   Smartphone  \n",
            "2  Salesperson_J   Television  \n",
            "3  Salesperson_B   Smartphone  \n",
            "4  Salesperson_A   Smartphone  \n"
          ]
        }
      ],
      "source": [
        "# Memeriksa jumlah nilai NaN dalam setiap kolom\n",
        "print(\"\\nJumlah nilai NaN dalam setiap kolom:\")\n",
        "print(df.isna().sum())\n",
        "\n",
        "# Menghapus baris yang berisi nilai NaN\n",
        "data_cleaned = df.dropna()\n",
        "\n",
        "# Menampilkan beberapa baris pertama dari dataset setelah perubahan\n",
        "print(\"\\nSetelah menghapus nilai NaN:\")\n",
        "print(data_cleaned.head())"
      ]
    },
    {
      "cell_type": "markdown",
      "metadata": {
        "id": "ptjZM8GAD1Zz"
      },
      "source": [
        "Analisis data"
      ]
    },
    {
      "cell_type": "code",
      "execution_count": null,
      "metadata": {
        "colab": {
          "base_uri": "https://localhost:8080/",
          "height": 671
        },
        "id": "X1C50vMTAjIw",
        "outputId": "247f5b7f-d1cf-42ca-b190-8e9d60182ff3"
      },
      "outputs": [
        {
          "name": "stderr",
          "output_type": "stream",
          "text": [
            "<ipython-input-17-cf2b728af672>:11: FutureWarning: \n",
            "\n",
            "Passing `palette` without assigning `hue` is deprecated and will be removed in v0.14.0. Assign the `y` variable to `hue` and set `legend=False` for the same effect.\n",
            "\n",
            "  sns.barplot(x='Quantity', y='Product_Name', data=product_sales, palette='viridis')\n"
          ]
        },
        {
          "data": {
            "image/png": "[encoded data removed]",
            "text/plain": [
              "<Figure size 1000x600 with 1 Axes>"
            ]
          },
          "metadata": {},
          "output_type": "display_data"
        }
      ],
      "source": [
        "\"\"\"Mengidentifikasi produk elektronik yang paling laku.\"\"\"\n",
        "\n",
        "#menghitung setiap produk yang terjual, dengan menghitung berapa kali produk tersebut muncul dengan \"sum\"\n",
        "product_sales = sales_df_larger.groupby('Product_Name')['Quantity'].sum().reset_index()\n",
        "\n",
        "# melakukan pengurutan \"sort\" untuk mengetahui mana produk yang paling laku\n",
        "product_sales = product_sales.sort_values(by='Quantity', ascending=False)\n",
        "\n",
        "# Plotting the bar plot\n",
        "plt.figure(figsize=(10, 6))\n",
        "sns.barplot(x='Quantity', y='Product_Name', data=product_sales, palette='viridis')\n",
        "plt.title('Total Quantity Sold per Product')\n",
        "plt.xlabel('Total Quantity Sold')\n",
        "plt.ylabel('Product Name')\n",
        "plt.show()"
      ]
    },
    {
      "cell_type": "code",
      "execution_count": null,
      "metadata": {
        "colab": {
          "base_uri": "https://localhost:8080/",
          "height": 620
        },
        "id": "DzBu15tnEDDY",
        "outputId": "50944977-a211-4008-ee48-b6d2000ba605"
      },
      "outputs": [
        {
          "data": {
            "image/png": "[encoded data removed]",
            "text/plain": [
              "<Figure size 1400x700 with 1 Axes>"
            ]
          },
          "metadata": {},
          "output_type": "display_data"
        }
      ],
      "source": [
        "\"\"\"Menganalisis tren penjualan bulanan dan musiman.\"\"\"\n",
        "\n",
        "# melakukan Convert column Order_Date to datetime format\n",
        "sales_df_larger['Order_Date'] = pd.to_datetime(sales_df_larger['Order_Date'])\n",
        "\n",
        "# melakukan Extract data bulan dan tahun dari column Order_Date\n",
        "sales_df_larger['Month'] = sales_df_larger['Order_Date'].dt.month\n",
        "sales_df_larger['Year'] = sales_df_larger['Order_Date'].dt.year\n",
        "\n",
        "# mengelompokan berdasarkan bulan dan tahun, kemudian mengkalkulasi total penjualan\n",
        "monthly_sales = sales_df_larger.groupby(['Year', 'Month']).agg({'Quantity': 'sum'}).reset_index()\n",
        "\n",
        "# membuat plot untuk penjualan perbulan untuk setiap tahun\n",
        "plt.figure(figsize=(14, 7))\n",
        "sns.lineplot(data=monthly_sales, x='Month', y='Quantity', hue='Year', marker='o', palette='tab10')\n",
        "plt.title('Monthly Sales Trend')\n",
        "plt.xlabel('Month')\n",
        "plt.ylabel('Total Quantity Sold')\n",
        "plt.legend(title='Year')\n",
        "plt.show()"
      ]
    },
    {
      "cell_type": "code",
      "execution_count": null,
      "metadata": {
        "colab": {
          "base_uri": "https://localhost:8080/"
        },
        "id": "kKfx3ysqEJuH",
        "outputId": "26994e81-138d-4378-ba5b-15e9ec723d9d"
      },
      "outputs": [
        {
          "name": "stdout",
          "output_type": "stream",
          "text": [
            "   Customer_ID  Purchase_Count Customer_Name Gender  Age     Location\n",
            "0         1044              17   Customer_44      M   62      Houston\n",
            "1         1008              16    Customer_8      M   41  Los Angeles\n",
            "2         1007              15    Customer_7      F   41     New York\n",
            "3         1039              15   Customer_39      F   30     New York\n",
            "4         1025              14   Customer_25      M   22      Phoenix\n",
            "5         1038              14   Customer_38      F   47      Phoenix\n",
            "6         1001              14    Customer_1      F   33      Houston\n",
            "7         1016              14   Customer_16      M   31      Houston\n",
            "8         1018              13   Customer_18      M   31      Chicago\n",
            "9         1005              13    Customer_5      M   31     New York\n"
          ]
        }
      ],
      "source": [
        "\"\"\"Mengetahui profil pelanggan yang paling sering membeli.\"\"\"\n",
        "\n",
        "# Mengelompokkan data penjualan berdasarkan Customer_ID dan menghitung jumlah pembelian\n",
        "customer_purchase_counts = sales_df_larger['Customer_ID'].value_counts().reset_index()\n",
        "customer_purchase_counts.columns = ['Customer_ID', 'Purchase_Count']\n",
        "\n",
        "# Menggabungkan data penjualan dengan data profil pelanggan\n",
        "customer_profiles = pd.merge(customer_purchase_counts, customers_df_larger, on='Customer_ID')\n",
        "\n",
        "# Mengurutkan berdasarkan jumlah pembelian\n",
        "customer_profiles = customer_profiles.sort_values(by='Purchase_Count', ascending=False)\n",
        "\n",
        "# Menampilkan profil pelanggan yang paling sering membeli\n",
        "print(customer_profiles.head(10))"
      ]
    },
    {
      "cell_type": "code",
      "execution_count": null,
      "metadata": {
        "colab": {
          "base_uri": "https://localhost:8080/"
        },
        "id": "D1sZ2oyAEPjn",
        "outputId": "ea1fb904-cccc-40d6-b3aa-82042e4c5cc4"
      },
      "outputs": [
        {
          "name": "stdout",
          "output_type": "stream",
          "text": [
            "\n",
            "Produk dengan margin keuntungan tertinggi:\n",
            "Product_ID                  105\n",
            "Product_Name         Smartwatch\n",
            "Category              Wearables\n",
            "Cost                        200\n",
            "Price                       600\n",
            "Margin_Keuntungan           400\n",
            "Name: 4, dtype: object\n"
          ]
        }
      ],
      "source": [
        "\"\"\"#Mengidentifikasi produk dengan margin keuntungan tertinggi.\"\"\"\n",
        "\n",
        "# Membuat DataFrame dari data produk\n",
        "df = pd.DataFrame(products_data_larger)\n",
        "\n",
        "# Hitung margin keuntungan\n",
        "df['Margin_Keuntungan'] = df['Price'] - df['Cost']\n",
        "\n",
        "# Temukan produk dengan margin keuntungan tertinggi\n",
        "produk_tertinggi = df.loc[df['Margin_Keuntungan'].idxmax()]\n",
        "\n",
        "# Tampilkan DataFrame dan produk dengan margin keuntungan tertinggi\n",
        "print(\"\\nProduk dengan margin keuntungan tertinggi:\")\n",
        "print(produk_tertinggi)"
      ]
    },
    {
      "cell_type": "code",
      "execution_count": null,
      "metadata": {
        "colab": {
          "base_uri": "https://localhost:8080/"
        },
        "id": "zVOSmgicETaE",
        "outputId": "bb346de4-7faa-4437-dd26-a063ec8bc1c9"
      },
      "outputs": [
        {
          "output_type": "stream",
          "name": "stdout",
          "text": [
            "Data Produk:\n",
            "   Product_ID Product_Name     Category  Cost  Price  Margin_Keuntungan\n",
            "0         101       Laptop    Computers   400    500                100\n",
            "1         102   Smartphone      Mobiles   250    300                 50\n",
            "2         103   Television  Electronics   600    700                100\n",
            "3         104       Tablet      Mobiles   350    400                 50\n",
            "4         105   Smartwatch    Wearables   200    600                400\n"
          ]
        }
      ],
      "source": [
        "\"\"\" Daftar Margin untuk setiap produk \"\"\"\n",
        "\n",
        "# Membuat DataFrame dari data produk\n",
        "df = pd.DataFrame(products_data_larger)\n",
        "\n",
        "# Hitung margin keuntungan\n",
        "df['Margin_Keuntungan'] = df['Price'] - df['Cost']\n",
        "\n",
        "# Temukan produk dengan margin keuntungan tertinggi\n",
        "produk_tertinggi = df.loc[df['Margin_Keuntungan'].idxmax()].copy()\n",
        "\n",
        "# Tampilkan DataFrame dan rekomendasi\n",
        "print(\"Data Produk:\")\n",
        "print(df)"
      ]
    },
    {
      "cell_type": "markdown",
      "source": [
        "Link Dashboard :\n"
      ],
      "metadata": {
        "id": "YrF8CuEpMxzp"
      }
    }
  ],
  "metadata": {
    "colab": {
      "provenance": []
    },
    "kernelspec": {
      "display_name": "Python 3",
      "name": "python3"
    },
    "language_info": {
      "name": "python"
    }
  },
  "nbformat": 4,
  "nbformat_minor": 0
}